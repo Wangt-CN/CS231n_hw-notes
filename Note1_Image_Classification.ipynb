{
 "cells": [
  {
   "cell_type": "code",
   "execution_count": 1,
   "metadata": {},
   "outputs": [],
   "source": [
    "#调用cifar数据集\n",
    "def unpickle(file):\n",
    "    import cPickle\n",
    "    with open(file, 'rb') as fo:\n",
    "        dict = cPickle.load(fo)\n",
    "    return dict\n",
    "\n",
    "data_tr = unpickle('cifar-10/data_batch_1')#我们调用batch1\n",
    "data_pr = unpickle('cifar-10/test_batch')\n",
    "\n"
   ]
  },
  {
   "cell_type": "code",
   "execution_count": 2,
   "metadata": {},
   "outputs": [
    {
     "name": "stdout",
     "output_type": "stream",
     "text": [
      "(10000, 3072)\n"
     ]
    }
   ],
   "source": [
    "#X都是10000*3072，Y都是10000*1\n",
    "Xtr = data_tr['data']\n",
    "Ytr = data_tr['labels']\n",
    "Xpr = data_pr['data']\n",
    "Ypr = data_pr['labels']\n",
    "print Xtr.shape#检测一下"
   ]
  },
  {
   "cell_type": "code",
   "execution_count": 3,
   "metadata": {},
   "outputs": [],
   "source": [
    "import numpy as np\n",
    "\n",
    "class NN(object):\n",
    "    #NN实际没有train的过程，直接赋值\n",
    "    def __init__(self, x, y):#输入Xtr， Ytr\n",
    "        self.Xtr = x\n",
    "        self.Ytr = y\n",
    "    \n",
    "    \n",
    "    #对test_batch进行预测\n",
    "    def predict(self, x):#输入Xpr\n",
    "        y_pre = np.zeros((x.shape[0],1))#初始化y_pre\n",
    "        \n",
    "        for i in xrange(x.shape[0]):\n",
    "            dis = np.sum(abs(x[i,:] - self.Xtr), axis = 1)\n",
    "            dis_index = np.argmin(dis)#按行求和再找最小的对应列数\n",
    "            y_pre[i] = self.Ytr[dis_index]#读出对应的label值\n",
    "        self.y_pre = y_pre\n",
    "        \n",
    "    #检测正确率\n",
    "    def accuracy(self, y):#输入Ypr\n",
    "        sum = 0\n",
    "        \n",
    "        for i in xrange(len(y)):\n",
    "            if y[i] == self.y_pre[i]:\n",
    "                sum += 1\n",
    "                \n",
    "        return (sum/float(len(y)))*100.0      "
   ]
  },
  {
   "cell_type": "code",
   "execution_count": 4,
   "metadata": {},
   "outputs": [],
   "source": [
    "data = NN(Xtr, Ytr)\n",
    "data.predict(Xpr)\n"
   ]
  },
  {
   "cell_type": "code",
   "execution_count": 5,
   "metadata": {},
   "outputs": [
    {
     "name": "stdout",
     "output_type": "stream",
     "text": [
      "[[3.]\n",
      " [8.]\n",
      " [8.]\n",
      " ...\n",
      " [0.]\n",
      " [4.]\n",
      " [2.]]\n"
     ]
    }
   ],
   "source": [
    "print data.y_pre\n"
   ]
  },
  {
   "cell_type": "code",
   "execution_count": 6,
   "metadata": {
    "scrolled": true
   },
   "outputs": [
    {
     "data": {
      "text/plain": [
       "24.13"
      ]
     },
     "execution_count": 6,
     "metadata": {},
     "output_type": "execute_result"
    }
   ],
   "source": [
    "data.accuracy(Ypr)#准确率是24.13，只用了一个batch，和note中的30多还是有差距"
   ]
  },
  {
   "cell_type": "code",
   "execution_count": null,
   "metadata": {},
   "outputs": [],
   "source": []
  }
 ],
 "metadata": {
  "kernelspec": {
   "display_name": "Python 2",
   "language": "python",
   "name": "python2"
  },
  "language_info": {
   "codemirror_mode": {
    "name": "ipython",
    "version": 2
   },
   "file_extension": ".py",
   "mimetype": "text/x-python",
   "name": "python",
   "nbconvert_exporter": "python",
   "pygments_lexer": "ipython2",
   "version": "2.7.14"
  }
 },
 "nbformat": 4,
 "nbformat_minor": 2
}
