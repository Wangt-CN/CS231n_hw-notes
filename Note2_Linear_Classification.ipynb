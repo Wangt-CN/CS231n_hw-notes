{
 "cells": [
  {
   "cell_type": "code",
   "execution_count": null,
   "metadata": {},
   "outputs": [],
   "source": [
    "import numpy as np"
   ]
  },
  {
   "cell_type": "code",
   "execution_count": null,
   "metadata": {},
   "outputs": [],
   "source": [
    "#Note中的SVM Loss\n",
    "def svm(x, y, w):\n",
    "#SVM使用矩阵形式\n",
    "#输入要求：x是n×D的矩阵，y是n×1的label（0-9），w是k×D的矩阵\n",
    "    delta = 1.0\n",
    "    lambda = 1.0\n",
    "    score = w.dot(np.transpose(x))\n",
    "    loss = np.sum(np.maximum(0, score[y] - score + delta)) + lambda * np.sum(w**2)#此处运用numpy广播\n",
    "    return loss\n",
    "\n",
    "#SVM本质上是加入了一个delta，即那些虽然成功分类了，但是分类优势不够高的也将增加loss\n",
    "    "
   ]
  },
  {
   "cell_type": "code",
   "execution_count": null,
   "metadata": {},
   "outputs": [],
   "source": [
    "#求ｆ在ｘ点的梯度\n",
    "from compiler.ast import flatten\n",
    "def gradient_comput(f, x):\n",
    "    shape_x = x.shape\n",
    "    x = x.flatten()\n",
    "    fx = f(x)#先求ｘ点的值\n",
    "    h = 1e-6\n",
    "    grad = np.zeros(x.shape)\n",
    "    \n",
    "    #按照自己的理解写的循环\n",
    "    for i in range(x.shape[0]):\n",
    "        xi = x\n",
    "        xi[i] += h\n",
    "        fxh = f(xi)\n",
    "        grad[i] = (fx - fxh) / h\n",
    "    \n",
    "    grad.reshape(shape_x)\n",
    "    return grad\n",
    "\n",
    "\n",
    "#Note中的方法，运用索引的迭代，感觉还是Note中的方法更好\n",
    "\n",
    "def eval_numerical_gradient(f, x):\n",
    "\n",
    "  fx = f(x) # 在原点计算函数值\n",
    "  grad = np.zeros(x.shape)\n",
    "  h = 0.00001\n",
    "\n",
    "  # 对x中所有的索引进行迭代\n",
    "  it = np.nditer(x, flags=['multi_index'], op_flags=['readwrite'])\n",
    "  while not it.finished:\n",
    "\n",
    "    # 计算x+h处的函数值\n",
    "    ix = it.multi_index\n",
    "    old_value = x[ix]\n",
    "    x[ix] = old_value + h # 增加h\n",
    "    fxh = f(x) # 计算f(x + h)\n",
    "    x[ix] = old_value # 存到前一个值中 (非常重要)\n",
    "\n",
    "    # 计算偏导数\n",
    "    grad[ix] = (fxh - fx) / h # 坡度\n",
    "    it.iternext() # 到下个维度\n",
    "\n",
    "  return grad\n",
    "        \n",
    "    "
   ]
  }
 ],
 "metadata": {
  "kernelspec": {
   "display_name": "Python 2",
   "language": "python",
   "name": "python2"
  },
  "language_info": {
   "codemirror_mode": {
    "name": "ipython",
    "version": 2
   },
   "file_extension": ".py",
   "mimetype": "text/x-python",
   "name": "python",
   "nbconvert_exporter": "python",
   "pygments_lexer": "ipython2",
   "version": "2.7.14"
  }
 },
 "nbformat": 4,
 "nbformat_minor": 2
}
