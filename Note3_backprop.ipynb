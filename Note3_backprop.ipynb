{
 "cells": [
  {
   "cell_type": "code",
   "execution_count": null,
   "metadata": {},
   "outputs": [],
   "source": [
    "import numpy as np\n",
    "\n",
    "#正向传播\n",
    "x, y = 3, -4\n",
    "\n",
    "sigy = 1.0 / (1 + np.exp(-y))\n",
    "num = x + sigy\n",
    "sigx = 1.0 / (1 + np.exp(-x))\n",
    "xpy = x + y\n",
    "xpysqr = xpy ** 2\n",
    "den = sigx + xpysqr\n",
    "invden =1.0 / den\n",
    "f = num * invden\n",
    "\n",
    "#此处按照note中的例子写的，会发现几乎过程中的每一小步都单独列了出来，为后面的反向传播做准备\n",
    "#这样就不用整体求导了\n",
    "\n",
    "#反向传播\n",
    "# f = num * invden\n",
    "dnum = invden\n",
    "dinvden = num\n",
    "# invden = 1.0 / den\n",
    "dden = dinvden * (-1.0 / (den ** 2))\n",
    "# den = sigx + xpysqr\n",
    "dsigx = 1.0 * dden\n",
    "dxpysqr = 1.0 * dden\n",
    "# sigx = 1.0 / (1 + math.exp(-x))\n",
    "dx = dsigx * sigmoid(x) * (1 - sigmoid(x))\n",
    "# xpysqr = xpy**2\n",
    "dxpy = 2 * xpy * dxpysqr\n",
    "# xpy = x + y\n",
    "dx += 1.0 * dxpy\n",
    "dy = 1.0 * dxpy\n",
    "\n",
    "# num = x + sigy\n",
    "dx += 1.0 * dnum\n",
    "dsigy = 1.0 * dnum\n",
    "# sigy = 1.0 / (1 + math.exp(-y))\n",
    "dy += dsigy * sigmoid(y) * (1 - sigmoid(y))\n"
   ]
  },
  {
   "cell_type": "code",
   "execution_count": 3,
   "metadata": {},
   "outputs": [],
   "source": [
    "#关于矩阵的求梯度，关键是使维度满足计算结果\n",
    "# 前向传播\n",
    "W = np.random.randn(5, 10)\n",
    "X = np.random.randn(10, 3)\n",
    "D = W.dot(X)#这里D维度应该是(5*3)\n",
    "\n",
    "#反向计算梯度的时候\n",
    "dD = np.random.randn(*D.shape)\n",
    "#首先肯定是D×X，然后W维度是5,10，则X应该是3,10\n",
    "dW = dD.dot(X.T)\n",
    "dX = W.T.dot(dD)\n"
   ]
  },
  {
   "cell_type": "code",
   "execution_count": null,
   "metadata": {},
   "outputs": [],
   "source": []
  }
 ],
 "metadata": {
  "kernelspec": {
   "display_name": "Python 2",
   "language": "python",
   "name": "python2"
  },
  "language_info": {
   "codemirror_mode": {
    "name": "ipython",
    "version": 2
   },
   "file_extension": ".py",
   "mimetype": "text/x-python",
   "name": "python",
   "nbconvert_exporter": "python",
   "pygments_lexer": "ipython2",
   "version": "2.7.14"
  }
 },
 "nbformat": 4,
 "nbformat_minor": 2
}
