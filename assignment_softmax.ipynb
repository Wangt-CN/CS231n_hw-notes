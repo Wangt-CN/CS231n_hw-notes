{
 "cells": [
  {
   "cell_type": "markdown",
   "metadata": {},
   "source": [
    "# Softmax exercise\n",
    "\n",
    "*Complete and hand in this completed worksheet (including its outputs and any supporting code outside of the worksheet) with your assignment submission. For more details see the [assignments page](http://vision.stanford.edu/teaching/cs231n/assignments.html) on the course website.*\n",
    "\n",
    "This exercise is analogous to the SVM exercise. You will:\n",
    "\n",
    "- implement a fully-vectorized **loss function** for the Softmax classifier\n",
    "- implement the fully-vectorized expression for its **analytic gradient**\n",
    "- **check your implementation** with numerical gradient\n",
    "- use a validation set to **tune the learning rate and regularization** strength\n",
    "- **optimize** the loss function with **SGD**\n",
    "- **visualize** the final learned weights\n"
   ]
  },
  {
   "cell_type": "code",
   "execution_count": 1,
   "metadata": {},
   "outputs": [],
   "source": [
    "import random\n",
    "import numpy as np\n",
    "from cs231n.data_utils import load_CIFAR10\n",
    "import matplotlib.pyplot as plt\n",
    "\n",
    "from __future__ import print_function\n",
    "\n",
    "%matplotlib inline\n",
    "plt.rcParams['figure.figsize'] = (10.0, 8.0) # set default size of plots\n",
    "plt.rcParams['image.interpolation'] = 'nearest'\n",
    "plt.rcParams['image.cmap'] = 'gray'\n",
    "\n",
    "# for auto-reloading extenrnal modules\n",
    "# see http://stackoverflow.com/questions/1907993/autoreload-of-modules-in-ipython\n",
    "%load_ext autoreload\n",
    "%autoreload 2"
   ]
  },
  {
   "cell_type": "code",
   "execution_count": 2,
   "metadata": {},
   "outputs": [
    {
     "name": "stdout",
     "output_type": "stream",
     "text": [
      "Train data shape:  (49000, 3073)\n",
      "Train labels shape:  (49000,)\n",
      "Validation data shape:  (1000, 3073)\n",
      "Validation labels shape:  (1000,)\n",
      "Test data shape:  (1000, 3073)\n",
      "Test labels shape:  (1000,)\n",
      "dev data shape:  (500, 3073)\n",
      "dev labels shape:  (500,)\n"
     ]
    }
   ],
   "source": [
    "def get_CIFAR10_data(num_training=49000, num_validation=1000, num_test=1000, num_dev=500):\n",
    "    \"\"\"\n",
    "    Load the CIFAR-10 dataset from disk and perform preprocessing to prepare\n",
    "    it for the linear classifier. These are the same steps as we used for the\n",
    "    SVM, but condensed to a single function.  \n",
    "    \"\"\"\n",
    "    # Load the raw CIFAR-10 data\n",
    "    cifar10_dir = 'cs231n/datasets/cifar-10-batches-py'\n",
    "    \n",
    "    X_train, y_train, X_test, y_test = load_CIFAR10(cifar10_dir)\n",
    "    \n",
    "    # subsample the data\n",
    "    mask = list(range(num_training, num_training + num_validation))\n",
    "    X_val = X_train[mask]\n",
    "    y_val = y_train[mask]\n",
    "    mask = list(range(num_training))\n",
    "    X_train = X_train[mask]\n",
    "    y_train = y_train[mask]\n",
    "    mask = list(range(num_test))\n",
    "    X_test = X_test[mask]\n",
    "    y_test = y_test[mask]\n",
    "    mask = np.random.choice(num_training, num_dev, replace=False)\n",
    "    X_dev = X_train[mask]\n",
    "    y_dev = y_train[mask]\n",
    "    \n",
    "    # Preprocessing: reshape the image data into rows\n",
    "    X_train = np.reshape(X_train, (X_train.shape[0], -1))\n",
    "    X_val = np.reshape(X_val, (X_val.shape[0], -1))\n",
    "    X_test = np.reshape(X_test, (X_test.shape[0], -1))\n",
    "    X_dev = np.reshape(X_dev, (X_dev.shape[0], -1))\n",
    "    \n",
    "    # Normalize the data: subtract the mean image\n",
    "    mean_image = np.mean(X_train, axis = 0)\n",
    "    X_train -= mean_image\n",
    "    X_val -= mean_image\n",
    "    X_test -= mean_image\n",
    "    X_dev -= mean_image\n",
    "    \n",
    "    # add bias dimension and transform into columns\n",
    "    X_train = np.hstack([X_train, np.ones((X_train.shape[0], 1))])\n",
    "    X_val = np.hstack([X_val, np.ones((X_val.shape[0], 1))])\n",
    "    X_test = np.hstack([X_test, np.ones((X_test.shape[0], 1))])\n",
    "    X_dev = np.hstack([X_dev, np.ones((X_dev.shape[0], 1))])\n",
    "    \n",
    "    return X_train, y_train, X_val, y_val, X_test, y_test, X_dev, y_dev\n",
    "\n",
    "\n",
    "# Cleaning up variables to prevent loading data multiple times (which may cause memory issue)\n",
    "try:\n",
    "   del X_train, y_train\n",
    "   del X_test, y_test\n",
    "   print('Clear previously loaded data.')\n",
    "except:\n",
    "   pass\n",
    "\n",
    "# Invoke the above function to get our data.\n",
    "X_train, y_train, X_val, y_val, X_test, y_test, X_dev, y_dev = get_CIFAR10_data()\n",
    "print('Train data shape: ', X_train.shape)\n",
    "print('Train labels shape: ', y_train.shape)\n",
    "print('Validation data shape: ', X_val.shape)\n",
    "print('Validation labels shape: ', y_val.shape)\n",
    "print('Test data shape: ', X_test.shape)\n",
    "print('Test labels shape: ', y_test.shape)\n",
    "print('dev data shape: ', X_dev.shape)\n",
    "print('dev labels shape: ', y_dev.shape)"
   ]
  },
  {
   "cell_type": "markdown",
   "metadata": {},
   "source": [
    "## Softmax Classifier\n",
    "\n",
    "Your code for this section will all be written inside **cs231n/classifiers/softmax.py**. \n"
   ]
  },
  {
   "cell_type": "code",
   "execution_count": 7,
   "metadata": {},
   "outputs": [
    {
     "name": "stdout",
     "output_type": "stream",
     "text": [
      "loss: 2.307823\n",
      "sanity check: 2.302585\n"
     ]
    }
   ],
   "source": [
    "# First implement the naive softmax loss function with nested loops.\n",
    "# Open the file cs231n/classifiers/softmax.py and implement the\n",
    "# softmax_loss_naive function.\n",
    "\n",
    "from cs231n.classifiers.softmax import softmax_loss_naive\n",
    "import time\n",
    "\n",
    "# Generate a random softmax weight matrix and use it to compute the loss.\n",
    "W = np.random.randn(3073, 10) * 0.0001\n",
    "loss, grad = softmax_loss_naive(W, X_dev, y_dev, 0.0)\n",
    "\n",
    "# As a rough sanity check, our loss should be something close to -log(0.1).\n",
    "print('loss: %f' % loss)\n",
    "print('sanity check: %f' % (-np.log(0.1)))"
   ]
  },
  {
   "cell_type": "markdown",
   "metadata": {},
   "source": [
    "## Inline Question 1:\n",
    "Why do we expect our loss to be close to -log(0.1)? Explain briefly.**\n",
    "\n",
    "**Your answer:** *Fill this in*\n",
    "因为根据公式，即希望f（xi）预测值正确的概率为1"
   ]
  },
  {
   "cell_type": "code",
   "execution_count": 23,
   "metadata": {},
   "outputs": [
    {
     "name": "stdout",
     "output_type": "stream",
     "text": [
      "numerical: -0.927724 analytic: -1.039486, relative error: 5.681251e-02\n",
      "numerical: 1.201823 analytic: 1.400582, relative error: 7.637542e-02\n",
      "numerical: 0.412005 analytic: 0.603049, relative error: 1.882108e-01\n",
      "numerical: -3.771821 analytic: -4.304717, relative error: 6.598076e-02\n",
      "numerical: -0.102546 analytic: 0.321763, relative error: 1.000000e+00\n",
      "numerical: 1.671345 analytic: 1.841913, relative error: 4.854985e-02\n",
      "numerical: -0.940550 analytic: -1.232622, relative error: 1.343987e-01\n",
      "numerical: 1.170695 analytic: 1.022863, relative error: 6.739385e-02\n",
      "numerical: 2.366196 analytic: 2.554775, relative error: 3.832150e-02\n",
      "numerical: 2.157846 analytic: 2.289283, relative error: 2.955553e-02\n",
      "numerical: -2.671964 analytic: -3.323510, relative error: 1.086730e-01\n",
      "numerical: 1.394041 analytic: 1.368357, relative error: 9.297697e-03\n",
      "numerical: 0.513472 analytic: 0.479259, relative error: 3.446344e-02\n",
      "numerical: 3.106378 analytic: 3.323084, relative error: 3.370512e-02\n",
      "numerical: 0.817835 analytic: 0.879988, relative error: 3.660726e-02\n",
      "numerical: 2.365069 analytic: 2.589665, relative error: 4.532960e-02\n",
      "numerical: -4.323737 analytic: -4.830726, relative error: 5.538156e-02\n",
      "numerical: 0.583788 analytic: 0.495454, relative error: 8.184820e-02\n",
      "numerical: -0.384691 analytic: -0.753913, relative error: 3.242763e-01\n",
      "numerical: 0.725190 analytic: 0.837659, relative error: 7.196394e-02\n"
     ]
    }
   ],
   "source": [
    "# Complete the implementation of softmax_loss_naive and implement a (naive)\n",
    "# version of the gradient that uses nested loops.\n",
    "loss, grad = softmax_loss_naive(W, X_dev, y_dev, 0.0)\n",
    "\n",
    "# As we did for the SVM, use numeric gradient checking as a debugging tool.\n",
    "# The numeric gradient should be close to the analytic gradient.\n",
    "from cs231n.gradient_check import grad_check_sparse\n",
    "f = lambda w: softmax_loss_naive(w, X_dev, y_dev, 0.0)[0]\n",
    "grad_numerical = grad_check_sparse(f, W, grad, 10)\n",
    "\n",
    "# similar to SVM case, do another gradient check with regularization\n",
    "loss, grad = softmax_loss_naive(W, X_dev, y_dev, 5e1)\n",
    "f = lambda w: softmax_loss_naive(w, X_dev, y_dev, 5e1)[0]\n",
    "grad_numerical = grad_check_sparse(f, W, grad, 10)"
   ]
  },
  {
   "cell_type": "code",
   "execution_count": 26,
   "metadata": {},
   "outputs": [
    {
     "name": "stdout",
     "output_type": "stream",
     "text": [
      "naive loss: 2.307823e+00 computed in 0.230499s\n",
      "vectorized loss: 2.307823e+00 computed in 0.011292s\n",
      "Loss difference: 0.000000\n",
      "Gradient difference: 43.620989\n"
     ]
    }
   ],
   "source": [
    "# Now that we have a naive implementation of the softmax loss function and its gradient,\n",
    "# implement a vectorized version in softmax_loss_vectorized.\n",
    "# The two versions should compute the same results, but the vectorized version should be\n",
    "# much faster.\n",
    "tic = time.time()\n",
    "loss_naive, grad_naive = softmax_loss_naive(W, X_dev, y_dev, 0.000005)\n",
    "toc = time.time()\n",
    "print('naive loss: %e computed in %fs' % (loss_naive, toc - tic))\n",
    "\n",
    "from cs231n.classifiers.softmax import softmax_loss_vectorized\n",
    "tic = time.time()\n",
    "loss_vectorized, grad_vectorized = softmax_loss_vectorized(W, X_dev, y_dev, 0.000005)\n",
    "toc = time.time()\n",
    "print('vectorized loss: %e computed in %fs' % (loss_vectorized, toc - tic))\n",
    "\n",
    "# As we did for the SVM, we use the Frobenius norm to compare the two versions\n",
    "# of the gradient.\n",
    "grad_difference = np.linalg.norm(grad_naive - grad_vectorized, ord='fro')\n",
    "print('Loss difference: %f' % np.abs(loss_naive - loss_vectorized))\n",
    "print('Gradient difference: %f' % grad_difference)"
   ]
  },
  {
   "cell_type": "code",
   "execution_count": 27,
   "metadata": {},
   "outputs": [
    {
     "name": "stdout",
     "output_type": "stream",
     "text": [
      "iteration 0 / 1500: loss 391.336134\n",
      "iteration 100 / 1500: loss 236.635349\n",
      "iteration 200 / 1500: loss 143.746119\n",
      "iteration 300 / 1500: loss 87.781633\n",
      "iteration 400 / 1500: loss 53.815752\n",
      "iteration 500 / 1500: loss 33.381877\n",
      "iteration 600 / 1500: loss 20.974002\n",
      "iteration 700 / 1500: loss 13.429895\n",
      "iteration 800 / 1500: loss 8.957074\n",
      "iteration 900 / 1500: loss 6.177670\n",
      "iteration 1000 / 1500: loss 4.545150\n",
      "iteration 1100 / 1500: loss 3.617770\n",
      "iteration 1200 / 1500: loss 2.951063\n",
      "iteration 1300 / 1500: loss 2.588379\n",
      "iteration 1400 / 1500: loss 2.413777\n",
      "iteration 0 / 1500: loss 765.747609\n",
      "iteration 100 / 1500: loss 280.711316\n",
      "iteration 200 / 1500: loss 104.006871\n",
      "iteration 300 / 1500: loss 39.420850\n",
      "iteration 400 / 1500: loss 15.772784\n",
      "iteration 500 / 1500: loss 7.026008\n",
      "iteration 600 / 1500: loss 3.977931\n",
      "iteration 700 / 1500: loss 2.723593\n",
      "iteration 800 / 1500: loss 2.327856\n",
      "iteration 900 / 1500: loss 2.177248\n",
      "iteration 1000 / 1500: loss 2.134209\n",
      "iteration 1100 / 1500: loss 2.157356\n",
      "iteration 1200 / 1500: loss 2.083882\n",
      "iteration 1300 / 1500: loss 2.114424\n",
      "iteration 1400 / 1500: loss 2.073571\n",
      "iteration 0 / 1500: loss 390.621511\n",
      "iteration 100 / 1500: loss 33.024760\n",
      "iteration 200 / 1500: loss 4.509633\n",
      "iteration 300 / 1500: loss 2.222612\n",
      "iteration 400 / 1500: loss 2.058725\n",
      "iteration 500 / 1500: loss 1.994134\n",
      "iteration 600 / 1500: loss 2.064737\n",
      "iteration 700 / 1500: loss 1.964453\n",
      "iteration 800 / 1500: loss 1.921570\n",
      "iteration 900 / 1500: loss 1.962909\n",
      "iteration 1000 / 1500: loss 2.022640\n",
      "iteration 1100 / 1500: loss 2.068704\n",
      "iteration 1200 / 1500: loss 2.006748\n",
      "iteration 1300 / 1500: loss 2.005770\n",
      "iteration 1400 / 1500: loss 2.062738\n",
      "iteration 0 / 1500: loss 775.842851\n",
      "iteration 100 / 1500: loss 6.903704\n",
      "iteration 200 / 1500: loss 2.108330\n",
      "iteration 300 / 1500: loss 2.078425\n",
      "iteration 400 / 1500: loss 2.032370\n",
      "iteration 500 / 1500: loss 2.097237\n",
      "iteration 600 / 1500: loss 2.104527\n",
      "iteration 700 / 1500: loss 2.100001\n",
      "iteration 800 / 1500: loss 2.050709\n",
      "iteration 900 / 1500: loss 2.080756\n",
      "iteration 1000 / 1500: loss 2.144532\n",
      "iteration 1100 / 1500: loss 2.141421\n",
      "iteration 1200 / 1500: loss 2.053369\n",
      "iteration 1300 / 1500: loss 2.154349\n",
      "iteration 1400 / 1500: loss 2.064989\n",
      "lr 0.000000e+00 reg 0.000000e+00 train accuracy: 0.348449 val accuracy: 0.363000\n",
      "lr 0.000000e+00 reg 1.000000e+00 train accuracy: 0.330163 val accuracy: 0.346000\n",
      "lr 1.000000e+00 reg 0.000000e+00 train accuracy: 0.347184 val accuracy: 0.351000\n",
      "lr 1.000000e+00 reg 1.000000e+00 train accuracy: 0.326490 val accuracy: 0.333000\n",
      "best validation accuracy achieved during cross-validation: 0.363000\n"
     ]
    }
   ],
   "source": [
    "# Use the validation set to tune hyperparameters (regularization strength and\n",
    "# learning rate). You should experiment with different ranges for the learning\n",
    "# rates and regularization strengths; if you are careful you should be able to\n",
    "# get a classification accuracy of over 0.35 on the validation set.\n",
    "from cs231n.classifiers import Softmax\n",
    "results = {}\n",
    "best_val = -1\n",
    "best_softmax = None\n",
    "learning_rates = [1e-7, 5e-7]\n",
    "regularization_strengths = [2.5e4, 5e4]\n",
    "\n",
    "################################################################################\n",
    "# TODO:                                                                        #\n",
    "# Use the validation set to set the learning rate and regularization strength. #\n",
    "# This should be identical to the validation that you did for the SVM; save    #\n",
    "# the best trained softmax classifer in best_softmax.                          #\n",
    "################################################################################\n",
    "from cs231n.classifiers.linear_classifier import Softmax\n",
    "for i in range(len(learning_rates)):\n",
    "    for j in range(len(regularization_strengths)):\n",
    "        \n",
    "        #用之前写好的模块进行训练\n",
    "        softmax = Softmax()\n",
    "        loss = softmax.train(X_train, y_train, learning_rates[i], regularization_strengths[j],\n",
    "                          num_iters=1500, verbose=True)\n",
    "        y_val_pred = softmax.predict(X_val)\n",
    "        y_train_pred = softmax.predict(X_train)\n",
    "        train_acc = np.mean(y_train == y_train_pred)\n",
    "        val_acc = np.mean(y_val == y_val_pred)\n",
    "        results[i,j] = (train_acc, val_acc)\n",
    "        \n",
    "        if val_acc > best_val:\n",
    "            best_val = val_acc\n",
    "            best_softmax = softmax\n",
    "\n",
    "################################################################################\n",
    "#                              END OF YOUR CODE                                #\n",
    "################################################################################\n",
    "    \n",
    "# Print out results.\n",
    "for lr, reg in sorted(results):\n",
    "    train_accuracy, val_accuracy = results[(lr, reg)]\n",
    "    print('lr %e reg %e train accuracy: %f val accuracy: %f' % (\n",
    "                lr, reg, train_accuracy, val_accuracy))\n",
    "    \n",
    "print('best validation accuracy achieved during cross-validation: %f' % best_val)"
   ]
  },
  {
   "cell_type": "code",
   "execution_count": 28,
   "metadata": {},
   "outputs": [
    {
     "name": "stdout",
     "output_type": "stream",
     "text": [
      "softmax on raw pixels final test set accuracy: 0.358000\n"
     ]
    }
   ],
   "source": [
    "# evaluate on test set\n",
    "# Evaluate the best softmax on test set\n",
    "y_test_pred = best_softmax.predict(X_test)\n",
    "test_accuracy = np.mean(y_test == y_test_pred)\n",
    "print('softmax on raw pixels final test set accuracy: %f' % (test_accuracy, ))"
   ]
  },
  {
   "cell_type": "markdown",
   "metadata": {},
   "source": [
    "**Inline Question** - *True or False*\n",
    "\n",
    "It's possible to add a new datapoint to a training set that would leave the SVM loss unchanged, but this is not the case with the Softmax classifier loss.\n",
    "\n",
    "*Your answer*:\n",
    "\n",
    "true\n",
    "\n",
    "*Your explanation*:\n",
    "\n",
    "因为softmax的数据点只要不在分类线附近，就对分类情况没有影响，而softmax目的是让所有的正确分类，每一点改变都有影响"
   ]
  },
  {
   "cell_type": "code",
   "execution_count": 29,
   "metadata": {},
   "outputs": [
    {
     "data": {
      "image/png": "[encoded data removed]",
      "text/plain": [
       "<matplotlib.figure.Figure at 0x7fc868451e50>"
      ]
     },
     "metadata": {},
     "output_type": "display_data"
    }
   ],
   "source": [
    "# Visualize the learned weights for each class\n",
    "w = best_softmax.W[:-1,:] # strip out the bias\n",
    "w = w.reshape(32, 32, 3, 10)\n",
    "\n",
    "w_min, w_max = np.min(w), np.max(w)\n",
    "\n",
    "classes = ['plane', 'car', 'bird', 'cat', 'deer', 'dog', 'frog', 'horse', 'ship', 'truck']\n",
    "for i in range(10):\n",
    "    plt.subplot(2, 5, i + 1)\n",
    "    \n",
    "    # Rescale the weights to be between 0 and 255\n",
    "    wimg = 255.0 * (w[:, :, :, i].squeeze() - w_min) / (w_max - w_min)\n",
    "    plt.imshow(wimg.astype('uint8'))\n",
    "    plt.axis('off')\n",
    "    plt.title(classes[i])"
   ]
  },
  {
   "cell_type": "code",
   "execution_count": null,
   "metadata": {},
   "outputs": [],
   "source": []
  }
 ],
 "metadata": {
  "kernelspec": {
   "display_name": "Python 2",
   "language": "python",
   "name": "python2"
  },
  "language_info": {
   "codemirror_mode": {
    "name": "ipython",
    "version": 2
   },
   "file_extension": ".py",
   "mimetype": "text/x-python",
   "name": "python",
   "nbconvert_exporter": "python",
   "pygments_lexer": "ipython2",
   "version": "2.7.14"
  }
 },
 "nbformat": 4,
 "nbformat_minor": 1
}
